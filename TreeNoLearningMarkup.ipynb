{
 "cells": [
  {
   "cell_type": "markdown",
   "id": "b4d23619",
   "metadata": {},
   "source": [
    "# Дерево решений на размеченном без обучения датасете"
   ]
  },
  {
   "cell_type": "code",
   "execution_count": 1,
   "id": "99993c41",
   "metadata": {},
   "outputs": [],
   "source": [
    "from genetic import optimal_canny_for_ds as genetic_canny_for_ds\n",
    "from data_wrappers import BDD10kEdges, CityScapesEdges, apply_roi\n",
    "from bayesian_canny import optimal_canny_for_ds as bayesian_canny_for_ds\n",
    "from metrics import NormalizedFoM, Jaccard\n",
    "from torch.utils.data import Dataset\n",
    "from canny import canny\n",
    "import pandas as pd\n",
    "from benchmark import binarize\n",
    "import typing as tp\n",
    "from numpy import ndarray, mean\n",
    "from rich.progress import track"
   ]
  },
  {
   "cell_type": "code",
   "execution_count": 2,
   "id": "b0ec8c0a",
   "metadata": {},
   "outputs": [],
   "source": [
    "class ROI(Dataset):\n",
    "    def __init__(self, proxy: Dataset):\n",
    "        super().__init__()\n",
    "        self.proxy = proxy\n",
    "    def __getitem__(self, index):\n",
    "        img, edge = self.proxy[index]\n",
    "        return apply_roi(img), apply_roi(edge)\n",
    "    def __len__(self):\n",
    "        return len(self.proxy)"
   ]
  },
  {
   "cell_type": "markdown",
   "id": "55413671",
   "metadata": {},
   "source": [
    "## Разметка датасета"
   ]
  },
  {
   "cell_type": "code",
   "execution_count": 9,
   "id": "d53e6a7c",
   "metadata": {},
   "outputs": [
    {
     "data": {
      "application/vnd.jupyter.widget-view+json": {
       "model_id": "ed34cb2a8e174eca90c5f479e222d6b2",
       "version_major": 2,
       "version_minor": 0
      },
      "text/plain": [
       "Output()"
      ]
     },
     "metadata": {},
     "output_type": "display_data"
    },
    {
     "data": {
      "text/html": [
       "<pre style=\"white-space:pre;overflow-x:auto;line-height:normal;font-family:Menlo,'DejaVu Sans Mono',consolas,'Courier New',monospace\"></pre>\n"
      ],
      "text/plain": []
     },
     "metadata": {},
     "output_type": "display_data"
    },
    {
     "data": {
      "text/html": [
       "<pre style=\"white-space:pre;overflow-x:auto;line-height:normal;font-family:Menlo,'DejaVu Sans Mono',consolas,'Courier New',monospace\">\n",
       "</pre>\n"
      ],
      "text/plain": [
       "\n"
      ]
     },
     "metadata": {},
     "output_type": "display_data"
    }
   ],
   "source": [
    "# С помощью генетического алгоритма\n",
    "bdd10k = BDD10kEdges(\"./data/bdd100k\", \"train\")\n",
    "bdd10k = ROI(bdd10k)\n",
    "metric = Jaccard(0.2) # Используем Jaccard потому что Normalized FoM считается относительно долго\n",
    "optimal_canny_params = genetic_canny_for_ds(bdd10k, metric)\n",
    "optimal_canny_params.to_csv(\"genetic_bdd10k_canny_params.csv\")"
   ]
  },
  {
   "cell_type": "code",
   "execution_count": 11,
   "id": "d0138732",
   "metadata": {},
   "outputs": [
    {
     "data": {
      "application/vnd.jupyter.widget-view+json": {
       "model_id": "14810944102544cb90b35ea469521665",
       "version_major": 2,
       "version_minor": 0
      },
      "text/plain": [
       "Output()"
      ]
     },
     "metadata": {},
     "output_type": "display_data"
    },
    {
     "data": {
      "text/html": [
       "<pre style=\"white-space:pre;overflow-x:auto;line-height:normal;font-family:Menlo,'DejaVu Sans Mono',consolas,'Courier New',monospace\"></pre>\n"
      ],
      "text/plain": []
     },
     "metadata": {},
     "output_type": "display_data"
    },
    {
     "data": {
      "text/html": [
       "<pre style=\"white-space:pre;overflow-x:auto;line-height:normal;font-family:Menlo,'DejaVu Sans Mono',consolas,'Courier New',monospace\">\n",
       "</pre>\n"
      ],
      "text/plain": [
       "\n"
      ]
     },
     "metadata": {},
     "output_type": "display_data"
    }
   ],
   "source": [
    "cityscapes = CityScapesEdges(\"./data/cityscapes\", \"train\")\n",
    "cityscapes = ROI(cityscapes)\n",
    "metric = Jaccard(0.5) # Используем Jaccard потому что Normalized FoM считается относительно долго\n",
    "optimal_canny_params = genetic_canny_for_ds(cityscapes, metric)\n",
    "optimal_canny_params.to_csv(\"genetic_cityscapes_canny_params.csv\")"
   ]
  },
  {
   "cell_type": "code",
   "execution_count": 31,
   "id": "cdf7c20f",
   "metadata": {},
   "outputs": [
    {
     "data": {
      "application/vnd.jupyter.widget-view+json": {
       "model_id": "fb69f0507ae344db89c4ab3cdf412c19",
       "version_major": 2,
       "version_minor": 0
      },
      "text/plain": [
       "Output()"
      ]
     },
     "metadata": {},
     "output_type": "display_data"
    },
    {
     "data": {
      "text/html": [
       "<pre style=\"white-space:pre;overflow-x:auto;line-height:normal;font-family:Menlo,'DejaVu Sans Mono',consolas,'Courier New',monospace\"></pre>\n"
      ],
      "text/plain": []
     },
     "metadata": {},
     "output_type": "display_data"
    },
    {
     "data": {
      "text/html": [
       "<pre style=\"white-space:pre;overflow-x:auto;line-height:normal;font-family:Menlo,'DejaVu Sans Mono',consolas,'Courier New',monospace\">\n",
       "</pre>\n"
      ],
      "text/plain": [
       "\n"
      ]
     },
     "metadata": {},
     "output_type": "display_data"
    },
    {
     "data": {
      "text/plain": [
       "0.49390189463255113"
      ]
     },
     "execution_count": 31,
     "metadata": {},
     "output_type": "execute_result"
    }
   ],
   "source": [
    "# Проверка качества\n",
    "def check_suitability(param_df: pd.DataFrame, ds: Dataset, metric: tp.Callable[[ndarray, ndarray], float]):\n",
    "    mv = []\n",
    "    for (img, edge), (i, params) in track(zip(ds, param_df.iterrows()), \"Checking suitability\"):\n",
    "        thr1, thr2 = params[\"thr1\"], params[\"thr2\"]\n",
    "        prediction = canny(img, thr1, thr2)\n",
    "        prediction = binarize(prediction, 250)\n",
    "        edge = binarize(edge, 250)\n",
    "        mv.append(metric(prediction, edge))\n",
    "    return mean(mv)\n",
    "\n",
    "check_suitability(\n",
    "    pd.read_csv(\"genetic_bdd10k_canny_params.csv\", index_col=0),\n",
    "    ROI(BDD10kEdges(\"./data/bdd100k\", \"train\")),\n",
    "    NormalizedFoM(0.2, 0.2)\n",
    ")"
   ]
  },
  {
   "cell_type": "code",
   "execution_count": 32,
   "id": "7a2f6d4a",
   "metadata": {},
   "outputs": [
    {
     "data": {
      "application/vnd.jupyter.widget-view+json": {
       "model_id": "98df7c9c05364de7bb273663359120e2",
       "version_major": 2,
       "version_minor": 0
      },
      "text/plain": [
       "Output()"
      ]
     },
     "metadata": {},
     "output_type": "display_data"
    },
    {
     "data": {
      "text/html": [
       "<pre style=\"white-space:pre;overflow-x:auto;line-height:normal;font-family:Menlo,'DejaVu Sans Mono',consolas,'Courier New',monospace\"></pre>\n"
      ],
      "text/plain": []
     },
     "metadata": {},
     "output_type": "display_data"
    },
    {
     "data": {
      "text/html": [
       "<pre style=\"white-space:pre;overflow-x:auto;line-height:normal;font-family:Menlo,'DejaVu Sans Mono',consolas,'Courier New',monospace\">\n",
       "</pre>\n"
      ],
      "text/plain": [
       "\n"
      ]
     },
     "metadata": {},
     "output_type": "display_data"
    },
    {
     "data": {
      "text/plain": [
       "0.08141240199400909"
      ]
     },
     "execution_count": 32,
     "metadata": {},
     "output_type": "execute_result"
    }
   ],
   "source": [
    "check_suitability(\n",
    "    pd.read_csv(\"genetic_cityscapes_canny_params.csv\"),\n",
    "    ROI(CityScapesEdges(\"./data/cityscapes\", \"train\")),\n",
    "    Jaccard(0.5)\n",
    ")"
   ]
  },
  {
   "cell_type": "markdown",
   "id": "df4c65e6",
   "metadata": {},
   "source": [
    "## Генерация признаков"
   ]
  },
  {
   "cell_type": "code",
   "execution_count": 34,
   "id": "fe953cd8",
   "metadata": {},
   "outputs": [],
   "source": [
    "from feature_generation import generate_features"
   ]
  },
  {
   "cell_type": "code",
   "execution_count": 35,
   "id": "52424300",
   "metadata": {},
   "outputs": [
    {
     "data": {
      "application/vnd.jupyter.widget-view+json": {
       "model_id": "fbd91eaaaf964c479e7af26955870844",
       "version_major": 2,
       "version_minor": 0
      },
      "text/plain": [
       "Output()"
      ]
     },
     "metadata": {},
     "output_type": "display_data"
    },
    {
     "data": {
      "text/html": [
       "<pre style=\"white-space:pre;overflow-x:auto;line-height:normal;font-family:Menlo,'DejaVu Sans Mono',consolas,'Courier New',monospace\"></pre>\n"
      ],
      "text/plain": []
     },
     "metadata": {},
     "output_type": "display_data"
    },
    {
     "data": {
      "text/html": [
       "<pre style=\"white-space:pre;overflow-x:auto;line-height:normal;font-family:Menlo,'DejaVu Sans Mono',consolas,'Courier New',monospace\">\n",
       "</pre>\n"
      ],
      "text/plain": [
       "\n"
      ]
     },
     "metadata": {},
     "output_type": "display_data"
    }
   ],
   "source": [
    "ds = ROI(BDD10kEdges(\"./data/bdd100k\", \"train\"))\n",
    "generate_features(ds, \"bdd100k_features.csv\")"
   ]
  },
  {
   "cell_type": "code",
   "execution_count": 36,
   "id": "aba4502a",
   "metadata": {},
   "outputs": [
    {
     "data": {
      "application/vnd.jupyter.widget-view+json": {
       "model_id": "608d2b50dd394553a757468f952920dc",
       "version_major": 2,
       "version_minor": 0
      },
      "text/plain": [
       "Output()"
      ]
     },
     "metadata": {},
     "output_type": "display_data"
    },
    {
     "data": {
      "text/html": [
       "<pre style=\"white-space:pre;overflow-x:auto;line-height:normal;font-family:Menlo,'DejaVu Sans Mono',consolas,'Courier New',monospace\"></pre>\n"
      ],
      "text/plain": []
     },
     "metadata": {},
     "output_type": "display_data"
    },
    {
     "data": {
      "text/html": [
       "<pre style=\"white-space:pre;overflow-x:auto;line-height:normal;font-family:Menlo,'DejaVu Sans Mono',consolas,'Courier New',monospace\">\n",
       "</pre>\n"
      ],
      "text/plain": [
       "\n"
      ]
     },
     "metadata": {},
     "output_type": "display_data"
    }
   ],
   "source": [
    "ds = ROI(CityScapesEdges(\"./data/cityscapes\", \"train\"))\n",
    "generate_features(ds, \"cityscapes_features.csv\")"
   ]
  },
  {
   "cell_type": "markdown",
   "id": "615dd5fa",
   "metadata": {},
   "source": [
    "## Обучение"
   ]
  },
  {
   "cell_type": "code",
   "execution_count": 3,
   "id": "5fcc3046",
   "metadata": {},
   "outputs": [],
   "source": [
    "from sklearn.model_selection import GridSearchCV\n",
    "from sklearn.tree import DecisionTreeRegressor"
   ]
  },
  {
   "cell_type": "code",
   "execution_count": 4,
   "id": "5a598ab1",
   "metadata": {},
   "outputs": [],
   "source": [
    "X_cityscapes = pd.read_csv(\"cityscapes_features.csv\", index_col=0)\n",
    "y_cityscapes = pd.read_csv(\"genetic_cityscapes_canny_params.csv\", index_col=0)\n",
    "\n",
    "X_bdd10k = pd.read_csv(\"bdd100k_features.csv\", index_col=0)\n",
    "y_bdd10k = pd.read_csv(\"genetic_bdd10k_canny_params.csv\", index_col=0)"
   ]
  },
  {
   "cell_type": "code",
   "execution_count": 5,
   "id": "134dd573",
   "metadata": {},
   "outputs": [],
   "source": [
    "cityscapes = pd.merge(X_cityscapes, y_cityscapes, left_index=True, right_index=True)\n",
    "bdd10k = pd.merge(X_bdd10k, y_bdd10k, left_index=True, right_index=True)\n",
    "data = pd.concat([cityscapes, bdd10k], ignore_index=True)"
   ]
  },
  {
   "cell_type": "code",
   "execution_count": 6,
   "id": "0de5610a",
   "metadata": {},
   "outputs": [],
   "source": [
    "data = data.sample(frac=1)\n",
    "X, y = data.drop([\"thr1\", \"thr2\"], axis=1), data[[\"thr1\", \"thr2\"]]"
   ]
  },
  {
   "cell_type": "code",
   "execution_count": 27,
   "id": "d7b7d466",
   "metadata": {
    "scrolled": true
   },
   "outputs": [
    {
     "name": "stdout",
     "output_type": "stream",
     "text": [
      "Fitting 5 folds for each of 20 candidates, totalling 100 fits\n",
      "[CV 1/5] END ...max_depth=3, min_samples_leaf=1;, score=0.365 total time=   0.1s\n",
      "[CV 2/5] END ...max_depth=3, min_samples_leaf=1;, score=0.375 total time=   0.1s\n",
      "[CV 3/5] END ...max_depth=3, min_samples_leaf=1;, score=0.386 total time=   0.1s\n",
      "[CV 4/5] END ...max_depth=3, min_samples_leaf=1;, score=0.382 total time=   0.1s\n",
      "[CV 5/5] END ...max_depth=3, min_samples_leaf=1;, score=0.419 total time=   0.1s\n",
      "[CV 1/5] END ..max_depth=3, min_samples_leaf=10;, score=0.365 total time=   0.1s\n",
      "[CV 2/5] END ..max_depth=3, min_samples_leaf=10;, score=0.375 total time=   0.1s\n",
      "[CV 3/5] END ..max_depth=3, min_samples_leaf=10;, score=0.386 total time=   0.1s\n",
      "[CV 4/5] END ..max_depth=3, min_samples_leaf=10;, score=0.382 total time=   0.1s\n",
      "[CV 5/5] END ..max_depth=3, min_samples_leaf=10;, score=0.419 total time=   0.1s\n",
      "[CV 1/5] END ..max_depth=3, min_samples_leaf=20;, score=0.365 total time=   0.1s\n",
      "[CV 2/5] END ..max_depth=3, min_samples_leaf=20;, score=0.375 total time=   0.1s\n",
      "[CV 3/5] END ..max_depth=3, min_samples_leaf=20;, score=0.386 total time=   0.1s\n",
      "[CV 4/5] END ..max_depth=3, min_samples_leaf=20;, score=0.382 total time=   0.1s\n",
      "[CV 5/5] END ..max_depth=3, min_samples_leaf=20;, score=0.419 total time=   0.1s\n",
      "[CV 1/5] END ..max_depth=3, min_samples_leaf=40;, score=0.365 total time=   0.1s\n",
      "[CV 2/5] END ..max_depth=3, min_samples_leaf=40;, score=0.375 total time=   0.1s\n",
      "[CV 3/5] END ..max_depth=3, min_samples_leaf=40;, score=0.386 total time=   0.1s\n",
      "[CV 4/5] END ..max_depth=3, min_samples_leaf=40;, score=0.382 total time=   0.1s\n",
      "[CV 5/5] END ..max_depth=3, min_samples_leaf=40;, score=0.419 total time=   0.1s\n",
      "[CV 1/5] END ..max_depth=3, min_samples_leaf=70;, score=0.365 total time=   0.1s\n",
      "[CV 2/5] END ..max_depth=3, min_samples_leaf=70;, score=0.375 total time=   0.1s\n",
      "[CV 3/5] END ..max_depth=3, min_samples_leaf=70;, score=0.386 total time=   0.1s\n",
      "[CV 4/5] END ..max_depth=3, min_samples_leaf=70;, score=0.382 total time=   0.1s\n",
      "[CV 5/5] END ..max_depth=3, min_samples_leaf=70;, score=0.419 total time=   0.1s\n",
      "[CV 1/5] END ...max_depth=5, min_samples_leaf=1;, score=0.422 total time=   0.2s\n",
      "[CV 2/5] END ...max_depth=5, min_samples_leaf=1;, score=0.413 total time=   0.2s\n",
      "[CV 3/5] END ...max_depth=5, min_samples_leaf=1;, score=0.439 total time=   0.2s\n",
      "[CV 4/5] END ...max_depth=5, min_samples_leaf=1;, score=0.427 total time=   0.2s\n",
      "[CV 5/5] END ...max_depth=5, min_samples_leaf=1;, score=0.452 total time=   0.2s\n",
      "[CV 1/5] END ..max_depth=5, min_samples_leaf=10;, score=0.422 total time=   0.2s\n",
      "[CV 2/5] END ..max_depth=5, min_samples_leaf=10;, score=0.412 total time=   0.2s\n",
      "[CV 3/5] END ..max_depth=5, min_samples_leaf=10;, score=0.439 total time=   0.2s\n",
      "[CV 4/5] END ..max_depth=5, min_samples_leaf=10;, score=0.427 total time=   0.2s\n",
      "[CV 5/5] END ..max_depth=5, min_samples_leaf=10;, score=0.454 total time=   0.2s\n",
      "[CV 1/5] END ..max_depth=5, min_samples_leaf=20;, score=0.424 total time=   0.2s\n",
      "[CV 2/5] END ..max_depth=5, min_samples_leaf=20;, score=0.413 total time=   0.2s\n",
      "[CV 3/5] END ..max_depth=5, min_samples_leaf=20;, score=0.436 total time=   0.2s\n",
      "[CV 4/5] END ..max_depth=5, min_samples_leaf=20;, score=0.430 total time=   0.2s\n",
      "[CV 5/5] END ..max_depth=5, min_samples_leaf=20;, score=0.455 total time=   0.2s\n",
      "[CV 1/5] END ..max_depth=5, min_samples_leaf=40;, score=0.422 total time=   0.2s\n",
      "[CV 2/5] END ..max_depth=5, min_samples_leaf=40;, score=0.412 total time=   0.2s\n",
      "[CV 3/5] END ..max_depth=5, min_samples_leaf=40;, score=0.437 total time=   0.2s\n",
      "[CV 4/5] END ..max_depth=5, min_samples_leaf=40;, score=0.430 total time=   0.2s\n",
      "[CV 5/5] END ..max_depth=5, min_samples_leaf=40;, score=0.452 total time=   0.2s\n",
      "[CV 1/5] END ..max_depth=5, min_samples_leaf=70;, score=0.423 total time=   0.2s\n",
      "[CV 2/5] END ..max_depth=5, min_samples_leaf=70;, score=0.415 total time=   0.2s\n",
      "[CV 3/5] END ..max_depth=5, min_samples_leaf=70;, score=0.437 total time=   0.2s\n",
      "[CV 4/5] END ..max_depth=5, min_samples_leaf=70;, score=0.432 total time=   0.2s\n",
      "[CV 5/5] END ..max_depth=5, min_samples_leaf=70;, score=0.455 total time=   0.2s\n",
      "[CV 1/5] END ...max_depth=7, min_samples_leaf=1;, score=0.398 total time=   0.2s\n",
      "[CV 2/5] END ...max_depth=7, min_samples_leaf=1;, score=0.381 total time=   0.2s\n",
      "[CV 3/5] END ...max_depth=7, min_samples_leaf=1;, score=0.410 total time=   0.3s\n",
      "[CV 4/5] END ...max_depth=7, min_samples_leaf=1;, score=0.409 total time=   0.2s\n",
      "[CV 5/5] END ...max_depth=7, min_samples_leaf=1;, score=0.425 total time=   0.2s\n",
      "[CV 1/5] END ..max_depth=7, min_samples_leaf=10;, score=0.406 total time=   0.2s\n",
      "[CV 2/5] END ..max_depth=7, min_samples_leaf=10;, score=0.391 total time=   0.2s\n",
      "[CV 3/5] END ..max_depth=7, min_samples_leaf=10;, score=0.426 total time=   0.2s\n",
      "[CV 4/5] END ..max_depth=7, min_samples_leaf=10;, score=0.416 total time=   0.2s\n",
      "[CV 5/5] END ..max_depth=7, min_samples_leaf=10;, score=0.443 total time=   0.2s\n",
      "[CV 1/5] END ..max_depth=7, min_samples_leaf=20;, score=0.414 total time=   0.2s\n",
      "[CV 2/5] END ..max_depth=7, min_samples_leaf=20;, score=0.403 total time=   0.2s\n",
      "[CV 3/5] END ..max_depth=7, min_samples_leaf=20;, score=0.421 total time=   0.2s\n",
      "[CV 4/5] END ..max_depth=7, min_samples_leaf=20;, score=0.426 total time=   0.2s\n",
      "[CV 5/5] END ..max_depth=7, min_samples_leaf=20;, score=0.450 total time=   0.2s\n",
      "[CV 1/5] END ..max_depth=7, min_samples_leaf=40;, score=0.419 total time=   0.2s\n",
      "[CV 2/5] END ..max_depth=7, min_samples_leaf=40;, score=0.412 total time=   0.2s\n",
      "[CV 3/5] END ..max_depth=7, min_samples_leaf=40;, score=0.430 total time=   0.2s\n",
      "[CV 4/5] END ..max_depth=7, min_samples_leaf=40;, score=0.431 total time=   0.2s\n",
      "[CV 5/5] END ..max_depth=7, min_samples_leaf=40;, score=0.453 total time=   0.2s\n",
      "[CV 1/5] END ..max_depth=7, min_samples_leaf=70;, score=0.426 total time=   0.2s\n",
      "[CV 2/5] END ..max_depth=7, min_samples_leaf=70;, score=0.414 total time=   0.2s\n",
      "[CV 3/5] END ..max_depth=7, min_samples_leaf=70;, score=0.441 total time=   0.2s\n",
      "[CV 4/5] END ..max_depth=7, min_samples_leaf=70;, score=0.439 total time=   0.2s\n",
      "[CV 5/5] END ..max_depth=7, min_samples_leaf=70;, score=0.458 total time=   0.2s\n",
      "[CV 1/5] END ..max_depth=10, min_samples_leaf=1;, score=0.283 total time=   0.3s\n",
      "[CV 2/5] END ..max_depth=10, min_samples_leaf=1;, score=0.273 total time=   0.3s\n",
      "[CV 3/5] END ..max_depth=10, min_samples_leaf=1;, score=0.295 total time=   0.3s\n",
      "[CV 4/5] END ..max_depth=10, min_samples_leaf=1;, score=0.271 total time=   0.3s\n",
      "[CV 5/5] END ..max_depth=10, min_samples_leaf=1;, score=0.323 total time=   0.3s\n",
      "[CV 1/5] END .max_depth=10, min_samples_leaf=10;, score=0.341 total time=   0.3s\n",
      "[CV 2/5] END .max_depth=10, min_samples_leaf=10;, score=0.334 total time=   0.3s\n",
      "[CV 3/5] END .max_depth=10, min_samples_leaf=10;, score=0.352 total time=   0.3s\n",
      "[CV 4/5] END .max_depth=10, min_samples_leaf=10;, score=0.347 total time=   0.3s\n",
      "[CV 5/5] END .max_depth=10, min_samples_leaf=10;, score=0.401 total time=   0.3s\n",
      "[CV 1/5] END .max_depth=10, min_samples_leaf=20;, score=0.380 total time=   0.3s\n",
      "[CV 2/5] END .max_depth=10, min_samples_leaf=20;, score=0.362 total time=   0.3s\n",
      "[CV 3/5] END .max_depth=10, min_samples_leaf=20;, score=0.382 total time=   0.3s\n",
      "[CV 4/5] END .max_depth=10, min_samples_leaf=20;, score=0.383 total time=   0.3s\n",
      "[CV 5/5] END .max_depth=10, min_samples_leaf=20;, score=0.432 total time=   0.3s\n",
      "[CV 1/5] END .max_depth=10, min_samples_leaf=40;, score=0.399 total time=   0.3s\n",
      "[CV 2/5] END .max_depth=10, min_samples_leaf=40;, score=0.393 total time=   0.3s\n",
      "[CV 3/5] END .max_depth=10, min_samples_leaf=40;, score=0.412 total time=   0.3s\n",
      "[CV 4/5] END .max_depth=10, min_samples_leaf=40;, score=0.413 total time=   0.2s\n",
      "[CV 5/5] END .max_depth=10, min_samples_leaf=40;, score=0.442 total time=   0.2s\n",
      "[CV 1/5] END .max_depth=10, min_samples_leaf=70;, score=0.418 total time=   0.2s\n",
      "[CV 2/5] END .max_depth=10, min_samples_leaf=70;, score=0.411 total time=   0.2s\n",
      "[CV 3/5] END .max_depth=10, min_samples_leaf=70;, score=0.439 total time=   0.2s\n",
      "[CV 4/5] END .max_depth=10, min_samples_leaf=70;, score=0.426 total time=   0.2s\n",
      "[CV 5/5] END .max_depth=10, min_samples_leaf=70;, score=0.454 total time=   0.2s\n"
     ]
    },
    {
     "data": {
      "text/plain": [
       "{'max_depth': 7, 'min_samples_leaf': 70}"
      ]
     },
     "execution_count": 27,
     "metadata": {},
     "output_type": "execute_result"
    }
   ],
   "source": [
    "regressor = DecisionTreeRegressor()\n",
    "\n",
    "parameters = {\n",
    "    \"max_depth\": [3, 5, 7, 10],\n",
    "    \"min_samples_leaf\": [1, 10, 20, 40, 70],\n",
    "#     \"criterion\": [\"squared_error\", \"friedman_mse\", \"absolute_error\", \"poisson\"]\n",
    "}\n",
    "\n",
    "grid_search = GridSearchCV(regressor, parameters, verbose=3)\n",
    "grid_search.fit(X, y)\n",
    "\n",
    "grid_search.best_params_"
   ]
  },
  {
   "cell_type": "code",
   "execution_count": 7,
   "id": "5a300f64",
   "metadata": {},
   "outputs": [
    {
     "data": {
      "text/html": [
       "<style>#sk-container-id-1 {color: black;background-color: white;}#sk-container-id-1 pre{padding: 0;}#sk-container-id-1 div.sk-toggleable {background-color: white;}#sk-container-id-1 label.sk-toggleable__label {cursor: pointer;display: block;width: 100%;margin-bottom: 0;padding: 0.3em;box-sizing: border-box;text-align: center;}#sk-container-id-1 label.sk-toggleable__label-arrow:before {content: \"▸\";float: left;margin-right: 0.25em;color: #696969;}#sk-container-id-1 label.sk-toggleable__label-arrow:hover:before {color: black;}#sk-container-id-1 div.sk-estimator:hover label.sk-toggleable__label-arrow:before {color: black;}#sk-container-id-1 div.sk-toggleable__content {max-height: 0;max-width: 0;overflow: hidden;text-align: left;background-color: #f0f8ff;}#sk-container-id-1 div.sk-toggleable__content pre {margin: 0.2em;color: black;border-radius: 0.25em;background-color: #f0f8ff;}#sk-container-id-1 input.sk-toggleable__control:checked~div.sk-toggleable__content {max-height: 200px;max-width: 100%;overflow: auto;}#sk-container-id-1 input.sk-toggleable__control:checked~label.sk-toggleable__label-arrow:before {content: \"▾\";}#sk-container-id-1 div.sk-estimator input.sk-toggleable__control:checked~label.sk-toggleable__label {background-color: #d4ebff;}#sk-container-id-1 div.sk-label input.sk-toggleable__control:checked~label.sk-toggleable__label {background-color: #d4ebff;}#sk-container-id-1 input.sk-hidden--visually {border: 0;clip: rect(1px 1px 1px 1px);clip: rect(1px, 1px, 1px, 1px);height: 1px;margin: -1px;overflow: hidden;padding: 0;position: absolute;width: 1px;}#sk-container-id-1 div.sk-estimator {font-family: monospace;background-color: #f0f8ff;border: 1px dotted black;border-radius: 0.25em;box-sizing: border-box;margin-bottom: 0.5em;}#sk-container-id-1 div.sk-estimator:hover {background-color: #d4ebff;}#sk-container-id-1 div.sk-parallel-item::after {content: \"\";width: 100%;border-bottom: 1px solid gray;flex-grow: 1;}#sk-container-id-1 div.sk-label:hover label.sk-toggleable__label {background-color: #d4ebff;}#sk-container-id-1 div.sk-serial::before {content: \"\";position: absolute;border-left: 1px solid gray;box-sizing: border-box;top: 0;bottom: 0;left: 50%;z-index: 0;}#sk-container-id-1 div.sk-serial {display: flex;flex-direction: column;align-items: center;background-color: white;padding-right: 0.2em;padding-left: 0.2em;position: relative;}#sk-container-id-1 div.sk-item {position: relative;z-index: 1;}#sk-container-id-1 div.sk-parallel {display: flex;align-items: stretch;justify-content: center;background-color: white;position: relative;}#sk-container-id-1 div.sk-item::before, #sk-container-id-1 div.sk-parallel-item::before {content: \"\";position: absolute;border-left: 1px solid gray;box-sizing: border-box;top: 0;bottom: 0;left: 50%;z-index: -1;}#sk-container-id-1 div.sk-parallel-item {display: flex;flex-direction: column;z-index: 1;position: relative;background-color: white;}#sk-container-id-1 div.sk-parallel-item:first-child::after {align-self: flex-end;width: 50%;}#sk-container-id-1 div.sk-parallel-item:last-child::after {align-self: flex-start;width: 50%;}#sk-container-id-1 div.sk-parallel-item:only-child::after {width: 0;}#sk-container-id-1 div.sk-dashed-wrapped {border: 1px dashed gray;margin: 0 0.4em 0.5em 0.4em;box-sizing: border-box;padding-bottom: 0.4em;background-color: white;}#sk-container-id-1 div.sk-label label {font-family: monospace;font-weight: bold;display: inline-block;line-height: 1.2em;}#sk-container-id-1 div.sk-label-container {text-align: center;}#sk-container-id-1 div.sk-container {/* jupyter's `normalize.less` sets `[hidden] { display: none; }` but bootstrap.min.css set `[hidden] { display: none !important; }` so we also need the `!important` here to be able to override the default hidden behavior on the sphinx rendered scikit-learn.org. See: https://github.com/scikit-learn/scikit-learn/issues/21755 */display: inline-block !important;position: relative;}#sk-container-id-1 div.sk-text-repr-fallback {display: none;}</style><div id=\"sk-container-id-1\" class=\"sk-top-container\"><div class=\"sk-text-repr-fallback\"><pre>DecisionTreeRegressor(max_depth=7, min_samples_leaf=70)</pre><b>In a Jupyter environment, please rerun this cell to show the HTML representation or trust the notebook. <br />On GitHub, the HTML representation is unable to render, please try loading this page with nbviewer.org.</b></div><div class=\"sk-container\" hidden><div class=\"sk-item\"><div class=\"sk-estimator sk-toggleable\"><input class=\"sk-toggleable__control sk-hidden--visually\" id=\"sk-estimator-id-1\" type=\"checkbox\" checked><label for=\"sk-estimator-id-1\" class=\"sk-toggleable__label sk-toggleable__label-arrow\">DecisionTreeRegressor</label><div class=\"sk-toggleable__content\"><pre>DecisionTreeRegressor(max_depth=7, min_samples_leaf=70)</pre></div></div></div></div></div>"
      ],
      "text/plain": [
       "DecisionTreeRegressor(max_depth=7, min_samples_leaf=70)"
      ]
     },
     "execution_count": 7,
     "metadata": {},
     "output_type": "execute_result"
    }
   ],
   "source": [
    "regressor = DecisionTreeRegressor(max_depth=7, min_samples_leaf=70)\n",
    "regressor.fit(X, y)"
   ]
  },
  {
   "cell_type": "markdown",
   "id": "0ce218c5",
   "metadata": {},
   "source": [
    "## Тестирование"
   ]
  },
  {
   "cell_type": "code",
   "execution_count": 13,
   "id": "a296c3a1",
   "metadata": {},
   "outputs": [],
   "source": [
    "import numpy as np\n",
    "from feature_generation import gray_level_hist, jpeg_compression_vector\n",
    "from canny import canny"
   ]
  },
  {
   "cell_type": "code",
   "execution_count": 30,
   "id": "5fb1d113",
   "metadata": {},
   "outputs": [],
   "source": [
    "def generate_feature_vector(img):\n",
    "    return pd.DataFrame(np.concatenate([gray_level_hist(img), jpeg_compression_vector(img)]).reshape(1, -1), columns=X.columns)"
   ]
  },
  {
   "cell_type": "code",
   "execution_count": 18,
   "id": "967fba74",
   "metadata": {},
   "outputs": [],
   "source": [
    "def run_benchmark(method: tp.Callable[[np.ndarray], np.ndarray],\n",
    "                  metric: tp.Callable[[np.ndarray, np.ndarray], float],\n",
    "                  dataset: Dataset):\n",
    "    v = []\n",
    "    for img, gt in track(dataset, \"Running benchmark\", total=len(dataset)):\n",
    "        prediction = method(img)\n",
    "        gt = binarize(gt, 250)\n",
    "        prediction = binarize(prediction, 250)\n",
    "        v.append(metric(prediction, gt))\n",
    "    return np.mean(v)"
   ]
  },
  {
   "cell_type": "code",
   "execution_count": 32,
   "id": "35bbd68b",
   "metadata": {},
   "outputs": [],
   "source": [
    "def tree_method(image: np.ndarray) -> np.ndarray:\n",
    "    img_v = generate_feature_vector(image)\n",
    "    prediction = regressor.predict(img_v)\n",
    "    thr1, thr2 = prediction.tolist()[0]\n",
    "    return canny(image, thr1, thr2)"
   ]
  },
  {
   "cell_type": "code",
   "execution_count": 34,
   "id": "f090bed7",
   "metadata": {},
   "outputs": [
    {
     "data": {
      "application/vnd.jupyter.widget-view+json": {
       "model_id": "e48f4e46c8d74b118ce2a72006c295a0",
       "version_major": 2,
       "version_minor": 0
      },
      "text/plain": [
       "Output()"
      ]
     },
     "metadata": {},
     "output_type": "display_data"
    },
    {
     "data": {
      "text/html": [
       "<pre style=\"white-space:pre;overflow-x:auto;line-height:normal;font-family:Menlo,'DejaVu Sans Mono',consolas,'Courier New',monospace\"></pre>\n"
      ],
      "text/plain": []
     },
     "metadata": {},
     "output_type": "display_data"
    },
    {
     "data": {
      "text/html": [
       "<pre style=\"white-space:pre;overflow-x:auto;line-height:normal;font-family:Menlo,'DejaVu Sans Mono',consolas,'Courier New',monospace\">\n",
       "</pre>\n"
      ],
      "text/plain": [
       "\n"
      ]
     },
     "metadata": {},
     "output_type": "display_data"
    },
    {
     "data": {
      "text/plain": [
       "0.08191130375642584"
      ]
     },
     "execution_count": 34,
     "metadata": {},
     "output_type": "execute_result"
    }
   ],
   "source": [
    "run_benchmark(\n",
    "    tree_method,\n",
    "    Jaccard(0.5),\n",
    "    ROI(CityScapesEdges(\"./data/cityscapes\", \"val\"))\n",
    ")"
   ]
  },
  {
   "cell_type": "code",
   "execution_count": 35,
   "id": "86625432",
   "metadata": {},
   "outputs": [
    {
     "data": {
      "application/vnd.jupyter.widget-view+json": {
       "model_id": "4f927510b3cc45c590a78abcb48c026e",
       "version_major": 2,
       "version_minor": 0
      },
      "text/plain": [
       "Output()"
      ]
     },
     "metadata": {},
     "output_type": "display_data"
    },
    {
     "data": {
      "text/html": [
       "<pre style=\"white-space:pre;overflow-x:auto;line-height:normal;font-family:Menlo,'DejaVu Sans Mono',consolas,'Courier New',monospace\"></pre>\n"
      ],
      "text/plain": []
     },
     "metadata": {},
     "output_type": "display_data"
    },
    {
     "data": {
      "text/html": [
       "<pre style=\"white-space:pre;overflow-x:auto;line-height:normal;font-family:Menlo,'DejaVu Sans Mono',consolas,'Courier New',monospace\">\n",
       "</pre>\n"
      ],
      "text/plain": [
       "\n"
      ]
     },
     "metadata": {},
     "output_type": "display_data"
    },
    {
     "data": {
      "text/plain": [
       "0.4872284086957628"
      ]
     },
     "execution_count": 35,
     "metadata": {},
     "output_type": "execute_result"
    }
   ],
   "source": [
    "run_benchmark(\n",
    "    tree_method,\n",
    "    NormalizedFoM(0.2, 0.2),\n",
    "    ROI(BDD10kEdges(\"./data/bdd100k\", \"val\"))\n",
    ")"
   ]
  }
 ],
 "metadata": {
  "kernelspec": {
   "display_name": "adas_venv",
   "language": "python",
   "name": "adas_venv"
  },
  "language_info": {
   "codemirror_mode": {
    "name": "ipython",
    "version": 3
   },
   "file_extension": ".py",
   "mimetype": "text/x-python",
   "name": "python",
   "nbconvert_exporter": "python",
   "pygments_lexer": "ipython3",
   "version": "3.10.6"
  }
 },
 "nbformat": 4,
 "nbformat_minor": 5
}
