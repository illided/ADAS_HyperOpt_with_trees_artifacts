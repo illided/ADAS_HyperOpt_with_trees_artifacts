{
 "cells": [
  {
   "cell_type": "markdown",
   "id": "cbe1be28",
   "metadata": {},
   "source": [
    "   # Вычисления минимального уровня качества"
   ]
  },
  {
   "cell_type": "code",
   "execution_count": 1,
   "id": "d06beee6",
   "metadata": {},
   "outputs": [],
   "source": [
    "from canny import const_canny, stat_canny\n",
    "from data_wrappers import BDD10kEdges, CityScapesEdges, apply_roi\n",
    "from metrics import NormalizedFoM, Jaccard\n",
    "import typing as tp\n",
    "import numpy as np\n",
    "from torch.utils.data import Dataset\n",
    "from benchmark import binarize\n",
    "from rich.progress import track"
   ]
  },
  {
   "cell_type": "code",
   "execution_count": 2,
   "id": "6af819be",
   "metadata": {},
   "outputs": [],
   "source": [
    "def run_benchmark(method: tp.Callable[[np.ndarray], np.ndarray],\n",
    "                  metric: tp.Callable[[np.ndarray, np.ndarray], float],\n",
    "                  dataset: Dataset,\n",
    "                  enable_roi: bool):\n",
    "    v = []\n",
    "    for img, gt in track(dataset, \"Running benchmark\"):\n",
    "        if enable_roi:\n",
    "            img = apply_roi(img)\n",
    "            gt = apply_roi(gt)\n",
    "        prediction = method(img)\n",
    "        gt = binarize(gt, 250)\n",
    "        prediction = binarize(prediction, 250)\n",
    "        v.append(metric(prediction, gt))\n",
    "    return np.mean(v)"
   ]
  },
  {
   "cell_type": "markdown",
   "id": "97ccaefa",
   "metadata": {},
   "source": [
    "## Const Canny (100, 200)"
   ]
  },
  {
   "cell_type": "code",
   "execution_count": 3,
   "id": "af6a8a4d",
   "metadata": {},
   "outputs": [
    {
     "data": {
      "application/vnd.jupyter.widget-view+json": {
       "model_id": "ad9735f9085a48f3a7dbcad06e710ce4",
       "version_major": 2,
       "version_minor": 0
      },
      "text/plain": [
       "Output()"
      ]
     },
     "metadata": {},
     "output_type": "display_data"
    },
    {
     "data": {
      "text/html": [
       "<pre style=\"white-space:pre;overflow-x:auto;line-height:normal;font-family:Menlo,'DejaVu Sans Mono',consolas,'Courier New',monospace\"></pre>\n"
      ],
      "text/plain": []
     },
     "metadata": {},
     "output_type": "display_data"
    },
    {
     "data": {
      "text/html": [
       "<pre style=\"white-space:pre;overflow-x:auto;line-height:normal;font-family:Menlo,'DejaVu Sans Mono',consolas,'Courier New',monospace\">\n",
       "</pre>\n"
      ],
      "text/plain": [
       "\n"
      ]
     },
     "metadata": {},
     "output_type": "display_data"
    },
    {
     "data": {
      "text/plain": [
       "0.4634387254623186"
      ]
     },
     "execution_count": 3,
     "metadata": {},
     "output_type": "execute_result"
    }
   ],
   "source": [
    "# Bdd10k\n",
    "ds = BDD10kEdges(\"./data/bdd100k\", \"train\")\n",
    "run_benchmark(const_canny, NormalizedFoM(0.2, 0.2), ds, True)"
   ]
  },
  {
   "cell_type": "code",
   "execution_count": 4,
   "id": "70302ee6",
   "metadata": {},
   "outputs": [
    {
     "data": {
      "application/vnd.jupyter.widget-view+json": {
       "model_id": "4033b81eb6e3475683f9023c63f71771",
       "version_major": 2,
       "version_minor": 0
      },
      "text/plain": [
       "Output()"
      ]
     },
     "metadata": {},
     "output_type": "display_data"
    },
    {
     "data": {
      "text/html": [
       "<pre style=\"white-space:pre;overflow-x:auto;line-height:normal;font-family:Menlo,'DejaVu Sans Mono',consolas,'Courier New',monospace\"></pre>\n"
      ],
      "text/plain": []
     },
     "metadata": {},
     "output_type": "display_data"
    },
    {
     "data": {
      "text/html": [
       "<pre style=\"white-space:pre;overflow-x:auto;line-height:normal;font-family:Menlo,'DejaVu Sans Mono',consolas,'Courier New',monospace\">\n",
       "</pre>\n"
      ],
      "text/plain": [
       "\n"
      ]
     },
     "metadata": {},
     "output_type": "display_data"
    },
    {
     "data": {
      "text/plain": [
       "0.043350202477489566"
      ]
     },
     "execution_count": 4,
     "metadata": {},
     "output_type": "execute_result"
    }
   ],
   "source": [
    "# CityScapes\n",
    "ds = CityScapesEdges(\"./data/cityscapes\", \"train\")\n",
    "run_benchmark(const_canny, Jaccard(0.5), ds, True)"
   ]
  },
  {
   "cell_type": "code",
   "execution_count": 3,
   "id": "d8829704",
   "metadata": {},
   "outputs": [
    {
     "data": {
      "application/vnd.jupyter.widget-view+json": {
       "model_id": "17fbac706172490e855e618af58761d8",
       "version_major": 2,
       "version_minor": 0
      },
      "text/plain": [
       "Output()"
      ]
     },
     "metadata": {},
     "output_type": "display_data"
    },
    {
     "data": {
      "text/html": [
       "<pre style=\"white-space:pre;overflow-x:auto;line-height:normal;font-family:Menlo,'DejaVu Sans Mono',consolas,'Courier New',monospace\"></pre>\n"
      ],
      "text/plain": []
     },
     "metadata": {},
     "output_type": "display_data"
    },
    {
     "data": {
      "text/html": [
       "<pre style=\"white-space:pre;overflow-x:auto;line-height:normal;font-family:Menlo,'DejaVu Sans Mono',consolas,'Courier New',monospace\">\n",
       "</pre>\n"
      ],
      "text/plain": [
       "\n"
      ]
     },
     "metadata": {},
     "output_type": "display_data"
    },
    {
     "data": {
      "text/plain": [
       "0.46893641075861664"
      ]
     },
     "execution_count": 3,
     "metadata": {},
     "output_type": "execute_result"
    }
   ],
   "source": [
    "# Bdd10k\n",
    "ds = BDD10kEdges(\"./data/bdd100k\", \"val\")\n",
    "run_benchmark(const_canny, NormalizedFoM(0.2, 0.2), ds, True)"
   ]
  },
  {
   "cell_type": "code",
   "execution_count": 4,
   "id": "d97c2270",
   "metadata": {},
   "outputs": [
    {
     "data": {
      "application/vnd.jupyter.widget-view+json": {
       "model_id": "f5ebcaebdfa14c6b8f19d940f998c83d",
       "version_major": 2,
       "version_minor": 0
      },
      "text/plain": [
       "Output()"
      ]
     },
     "metadata": {},
     "output_type": "display_data"
    },
    {
     "data": {
      "text/html": [
       "<pre style=\"white-space:pre;overflow-x:auto;line-height:normal;font-family:Menlo,'DejaVu Sans Mono',consolas,'Courier New',monospace\"></pre>\n"
      ],
      "text/plain": []
     },
     "metadata": {},
     "output_type": "display_data"
    },
    {
     "data": {
      "text/html": [
       "<pre style=\"white-space:pre;overflow-x:auto;line-height:normal;font-family:Menlo,'DejaVu Sans Mono',consolas,'Courier New',monospace\">\n",
       "</pre>\n"
      ],
      "text/plain": [
       "\n"
      ]
     },
     "metadata": {},
     "output_type": "display_data"
    },
    {
     "data": {
      "text/plain": [
       "0.05177497092328132"
      ]
     },
     "execution_count": 4,
     "metadata": {},
     "output_type": "execute_result"
    }
   ],
   "source": [
    "# CityScapes\n",
    "ds = CityScapesEdges(\"./data/cityscapes\", \"val\")\n",
    "run_benchmark(const_canny, Jaccard(0.5), ds, True)"
   ]
  },
  {
   "cell_type": "markdown",
   "id": "ae846dbd",
   "metadata": {},
   "source": [
    "## Stat canny"
   ]
  },
  {
   "cell_type": "code",
   "execution_count": 5,
   "id": "4703e11f",
   "metadata": {},
   "outputs": [
    {
     "data": {
      "application/vnd.jupyter.widget-view+json": {
       "model_id": "4d1a6872a9da491080e5571a397d61a1",
       "version_major": 2,
       "version_minor": 0
      },
      "text/plain": [
       "Output()"
      ]
     },
     "metadata": {},
     "output_type": "display_data"
    },
    {
     "data": {
      "text/html": [
       "<pre style=\"white-space:pre;overflow-x:auto;line-height:normal;font-family:Menlo,'DejaVu Sans Mono',consolas,'Courier New',monospace\"></pre>\n"
      ],
      "text/plain": []
     },
     "metadata": {},
     "output_type": "display_data"
    },
    {
     "data": {
      "text/html": [
       "<pre style=\"white-space:pre;overflow-x:auto;line-height:normal;font-family:Menlo,'DejaVu Sans Mono',consolas,'Courier New',monospace\">\n",
       "</pre>\n"
      ],
      "text/plain": [
       "\n"
      ]
     },
     "metadata": {},
     "output_type": "display_data"
    },
    {
     "data": {
      "text/plain": [
       "0.46862011535728954"
      ]
     },
     "execution_count": 5,
     "metadata": {},
     "output_type": "execute_result"
    }
   ],
   "source": [
    "# Bdd10k\n",
    "ds = BDD10kEdges(\"./data/bdd100k\", \"train\")\n",
    "run_benchmark(stat_canny, NormalizedFoM(0.2, 0.2), ds, True)"
   ]
  },
  {
   "cell_type": "code",
   "execution_count": 6,
   "id": "44cc8c43",
   "metadata": {},
   "outputs": [
    {
     "data": {
      "application/vnd.jupyter.widget-view+json": {
       "model_id": "dbdce4c8d328402297e42023a4c72afb",
       "version_major": 2,
       "version_minor": 0
      },
      "text/plain": [
       "Output()"
      ]
     },
     "metadata": {},
     "output_type": "display_data"
    },
    {
     "data": {
      "text/html": [
       "<pre style=\"white-space:pre;overflow-x:auto;line-height:normal;font-family:Menlo,'DejaVu Sans Mono',consolas,'Courier New',monospace\"></pre>\n"
      ],
      "text/plain": []
     },
     "metadata": {},
     "output_type": "display_data"
    },
    {
     "data": {
      "text/html": [
       "<pre style=\"white-space:pre;overflow-x:auto;line-height:normal;font-family:Menlo,'DejaVu Sans Mono',consolas,'Courier New',monospace\">\n",
       "</pre>\n"
      ],
      "text/plain": [
       "\n"
      ]
     },
     "metadata": {},
     "output_type": "display_data"
    },
    {
     "data": {
      "text/plain": [
       "0.07553223658390411"
      ]
     },
     "execution_count": 6,
     "metadata": {},
     "output_type": "execute_result"
    }
   ],
   "source": [
    "# CityScapes\n",
    "ds = CityScapesEdges(\"./data/cityscapes\", \"train\")\n",
    "run_benchmark(stat_canny, Jaccard(0.5), ds, True)"
   ]
  },
  {
   "cell_type": "code",
   "execution_count": 5,
   "id": "3cac0785",
   "metadata": {},
   "outputs": [
    {
     "data": {
      "application/vnd.jupyter.widget-view+json": {
       "model_id": "3f99733363b34443baba47c2d2b93b8f",
       "version_major": 2,
       "version_minor": 0
      },
      "text/plain": [
       "Output()"
      ]
     },
     "metadata": {},
     "output_type": "display_data"
    },
    {
     "data": {
      "text/html": [
       "<pre style=\"white-space:pre;overflow-x:auto;line-height:normal;font-family:Menlo,'DejaVu Sans Mono',consolas,'Courier New',monospace\"></pre>\n"
      ],
      "text/plain": []
     },
     "metadata": {},
     "output_type": "display_data"
    },
    {
     "data": {
      "text/html": [
       "<pre style=\"white-space:pre;overflow-x:auto;line-height:normal;font-family:Menlo,'DejaVu Sans Mono',consolas,'Courier New',monospace\">\n",
       "</pre>\n"
      ],
      "text/plain": [
       "\n"
      ]
     },
     "metadata": {},
     "output_type": "display_data"
    },
    {
     "data": {
      "text/plain": [
       "0.476060539571286"
      ]
     },
     "execution_count": 5,
     "metadata": {},
     "output_type": "execute_result"
    }
   ],
   "source": [
    "# Bdd10k\n",
    "ds = BDD10kEdges(\"./data/bdd100k\", \"val\")\n",
    "run_benchmark(stat_canny, NormalizedFoM(0.2, 0.2), ds, True)"
   ]
  },
  {
   "cell_type": "code",
   "execution_count": 6,
   "id": "ebf4440d",
   "metadata": {},
   "outputs": [
    {
     "data": {
      "application/vnd.jupyter.widget-view+json": {
       "model_id": "3823e88311244f52bcf88877b6199950",
       "version_major": 2,
       "version_minor": 0
      },
      "text/plain": [
       "Output()"
      ]
     },
     "metadata": {},
     "output_type": "display_data"
    },
    {
     "data": {
      "text/html": [
       "<pre style=\"white-space:pre;overflow-x:auto;line-height:normal;font-family:Menlo,'DejaVu Sans Mono',consolas,'Courier New',monospace\"></pre>\n"
      ],
      "text/plain": []
     },
     "metadata": {},
     "output_type": "display_data"
    },
    {
     "data": {
      "text/html": [
       "<pre style=\"white-space:pre;overflow-x:auto;line-height:normal;font-family:Menlo,'DejaVu Sans Mono',consolas,'Courier New',monospace\">\n",
       "</pre>\n"
      ],
      "text/plain": [
       "\n"
      ]
     },
     "metadata": {},
     "output_type": "display_data"
    },
    {
     "data": {
      "text/plain": [
       "0.0799052981813493"
      ]
     },
     "execution_count": 6,
     "metadata": {},
     "output_type": "execute_result"
    }
   ],
   "source": [
    "# CityScapes\n",
    "ds = CityScapesEdges(\"./data/cityscapes\", \"val\")\n",
    "run_benchmark(stat_canny, Jaccard(0.5), ds, True)"
   ]
  }
 ],
 "metadata": {
  "kernelspec": {
   "display_name": "adas_venv",
   "language": "python",
   "name": "adas_venv"
  },
  "language_info": {
   "codemirror_mode": {
    "name": "ipython",
    "version": 3
   },
   "file_extension": ".py",
   "mimetype": "text/x-python",
   "name": "python",
   "nbconvert_exporter": "python",
   "pygments_lexer": "ipython3",
   "version": "3.10.6"
  }
 },
 "nbformat": 4,
 "nbformat_minor": 5
}
