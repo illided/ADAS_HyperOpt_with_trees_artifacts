{
 "cells": [
  {
   "cell_type": "markdown",
   "id": "548dc25e",
   "metadata": {},
   "source": [
    "# Выбор метрики для детектирования линий на основе человеческой разметки"
   ]
  },
  {
   "cell_type": "code",
   "execution_count": 1,
   "id": "678c50ff",
   "metadata": {},
   "outputs": [],
   "source": [
    "import pandas as pd\n",
    "from collections import defaultdict\n",
    "from sklearn.metrics import f1_score\n",
    "from imblearn.over_sampling import RandomOverSampler"
   ]
  },
  {
   "cell_type": "code",
   "execution_count": 2,
   "id": "e7bf705a",
   "metadata": {},
   "outputs": [],
   "source": [
    "bdd_df = pd.read_csv(\"BDD10k_metric_stats.csv\", index_col=\"img_id\")\n",
    "cityscapes_df = pd.read_csv(\"CityScapes_metric_stats.csv\", index_col=\"img_id\")\n",
    "cityscapes_rain_df = pd.read_csv(\"CityScapesRain_metric_stats.csv\", index_col=\"img_id\")"
   ]
  },
  {
   "cell_type": "code",
   "execution_count": 3,
   "id": "37b13fcb",
   "metadata": {},
   "outputs": [],
   "source": [
    "metrics = list(bdd_df.columns)\n",
    "metrics.remove(\"human\")"
   ]
  },
  {
   "cell_type": "code",
   "execution_count": 53,
   "id": "1dfb8d93",
   "metadata": {},
   "outputs": [],
   "source": [
    "# Удаляет все дубликаты и ответы \"Затрудняюсь ответить\"\n",
    "# Перераспределяет результаты чтобы избежать несбалансированности\n",
    "def prepare_df(df):\n",
    "    df = df.copy()\n",
    "    df = df[df[\"human\"] != 0.5]\n",
    "    df = df[~df.index.duplicated(keep='first')]\n",
    "    ros = RandomOverSampler(random_state=0)\n",
    "    X, y = ros.fit_resample(df[metrics], df[\"human\"])\n",
    "    X[\"human\"] = y\n",
    "    return X\n",
    "\n",
    "# Считает F1\n",
    "def get_score(df):\n",
    "    md = []\n",
    "    for m in metrics:\n",
    "        md.append((m, df[m].sub(df[\"human\"]).abs().mean(axis=0)))\n",
    "    md = sorted(md, key=lambda x: x[1])\n",
    "    return md"
   ]
  },
  {
   "cell_type": "code",
   "execution_count": 6,
   "id": "c64fa6a9",
   "metadata": {},
   "outputs": [],
   "source": [
    "bdd_df = prepare_df(bdd_df)\n",
    "cityscapes_df = prepare_df(cityscapes_df)\n",
    "cityscapes_rain_df = prepare_df(cityscapes_rain_df)"
   ]
  },
  {
   "cell_type": "code",
   "execution_count": 7,
   "id": "45d62be1",
   "metadata": {
    "scrolled": true
   },
   "outputs": [
    {
     "data": {
      "text/plain": [
       "0.5"
      ]
     },
     "execution_count": 7,
     "metadata": {},
     "output_type": "execute_result"
    }
   ],
   "source": [
    "bdd_df[\"human\"].mean()"
   ]
  },
  {
   "cell_type": "code",
   "execution_count": 8,
   "id": "280da8e4",
   "metadata": {},
   "outputs": [
    {
     "data": {
      "text/plain": [
       "0.5"
      ]
     },
     "execution_count": 8,
     "metadata": {},
     "output_type": "execute_result"
    }
   ],
   "source": [
    "cityscapes_df[\"human\"].mean()"
   ]
  },
  {
   "cell_type": "code",
   "execution_count": 9,
   "id": "b79c0d09",
   "metadata": {},
   "outputs": [
    {
     "data": {
      "text/plain": [
       "0.5"
      ]
     },
     "execution_count": 9,
     "metadata": {},
     "output_type": "execute_result"
    }
   ],
   "source": [
    "cityscapes_rain_df[\"human\"].mean()"
   ]
  },
  {
   "cell_type": "markdown",
   "id": "9851d220",
   "metadata": {},
   "source": [
    "## Оптимальная метрика для каждого датасета"
   ]
  },
  {
   "cell_type": "code",
   "execution_count": 54,
   "id": "9be3fc65",
   "metadata": {
    "scrolled": true
   },
   "outputs": [
    {
     "data": {
      "text/plain": [
       "[('NFOM_fp_0.2_fn_0.2_reg_0', 0.30833333333333335),\n",
       " ('NFOM_fp_0.1_fn_0.2_reg_0.5', 0.31666666666666665),\n",
       " ('Jaccard_reg_0.2', 0.325),\n",
       " ('NFOM_fp_0.2_fn_0.1_reg_0', 0.3333333333333333),\n",
       " ('NFOM_fp_0.2_fn_0.2_reg_0.2', 0.3333333333333333),\n",
       " ('Dice_reg_0.5', 0.3333333333333333),\n",
       " ('NFOM_fp_0.2_fn_0.2_reg_0.5', 0.3333333333333333),\n",
       " ('Dice_reg_0.2', 0.3416666666666667),\n",
       " ('NFOM_fp_0.1_fn_0.4_reg_0.5', 0.3416666666666667),\n",
       " ('NFOM_fp_0.1_fn_0.2_reg_0', 0.35),\n",
       " ('NFOM_fp_0.2_fn_0.1_reg_0.2', 0.35),\n",
       " ('Dice_reg_0', 0.36666666666666664),\n",
       " ('Jaccard_reg_0', 0.36666666666666664),\n",
       " ('Jaccard_reg_0.5', 0.36666666666666664),\n",
       " ('NFOM_fp_0.2_fn_0.1_reg_0.5', 0.36666666666666664),\n",
       " ('NFOM_fp_0.4_fn_0.1_reg_0.5', 0.36666666666666664),\n",
       " ('NFOM_fp_0.1_fn_0.4_reg_0.2', 0.375),\n",
       " ('NFOM_fp_0.1_fn_0.2_reg_0.2', 0.375),\n",
       " ('NFOM_fp_0.1_fn_0.4_reg_0', 0.38333333333333336),\n",
       " ('NFOM_fp_0.4_fn_0.1_reg_0.2', 0.38333333333333336),\n",
       " ('NFOM_fp_0.4_fn_0.1_reg_0', 0.4),\n",
       " ('SSIM_reg_0', 0.49166666666666664),\n",
       " ('MSE_reg_0', 0.5),\n",
       " ('PSNR_reg_0', 0.5),\n",
       " ('MSE_reg_0.2', 0.5),\n",
       " ('SSIM_reg_0.2', 0.5),\n",
       " ('PSNR_reg_0.2', 0.5),\n",
       " ('MSE_reg_0.5', 0.5),\n",
       " ('SSIM_reg_0.5', 0.5),\n",
       " ('PSNR_reg_0.5', 0.5)]"
      ]
     },
     "execution_count": 54,
     "metadata": {},
     "output_type": "execute_result"
    }
   ],
   "source": [
    "get_score(bdd_df)"
   ]
  },
  {
   "cell_type": "code",
   "execution_count": 30,
   "id": "900ab01e",
   "metadata": {
    "scrolled": true
   },
   "outputs": [
    {
     "data": {
      "text/plain": [
       "[('Jaccard_reg_0.5', 0.3765432098765432),\n",
       " ('NFOM_fp_0.4_fn_0.1_reg_0', 0.38271604938271603),\n",
       " ('NFOM_fp_0.2_fn_0.1_reg_0.5', 0.3888888888888889),\n",
       " ('NFOM_fp_0.2_fn_0.1_reg_0.2', 0.4012345679012346),\n",
       " ('NFOM_fp_0.4_fn_0.1_reg_0.2', 0.41358024691358025),\n",
       " ('SSIM_reg_0', 0.41975308641975306),\n",
       " ('NFOM_fp_0.4_fn_0.1_reg_0.5', 0.43209876543209874),\n",
       " ('Dice_reg_0.5', 0.4444444444444444),\n",
       " ('NFOM_fp_0.2_fn_0.2_reg_0.2', 0.4506172839506173),\n",
       " ('NFOM_fp_0.1_fn_0.2_reg_0.5', 0.4506172839506173),\n",
       " ('NFOM_fp_0.2_fn_0.2_reg_0', 0.4567901234567901),\n",
       " ('NFOM_fp_0.2_fn_0.1_reg_0', 0.4567901234567901),\n",
       " ('NFOM_fp_0.2_fn_0.2_reg_0.5', 0.4567901234567901),\n",
       " ('Dice_reg_0.2', 0.4691358024691358),\n",
       " ('Jaccard_reg_0.2', 0.4691358024691358),\n",
       " ('NFOM_fp_0.1_fn_0.2_reg_0.2', 0.4691358024691358),\n",
       " ('MSE_reg_0', 0.48148148148148145),\n",
       " ('PSNR_reg_0', 0.48148148148148145),\n",
       " ('PSNR_reg_0.2', 0.48148148148148145),\n",
       " ('NFOM_fp_0.1_fn_0.4_reg_0', 0.4876543209876543),\n",
       " ('NFOM_fp_0.1_fn_0.2_reg_0', 0.4876543209876543),\n",
       " ('NFOM_fp_0.1_fn_0.4_reg_0.2', 0.4876543209876543),\n",
       " ('PSNR_reg_0.5', 0.4876543209876543),\n",
       " ('NFOM_fp_0.1_fn_0.4_reg_0.5', 0.4876543209876543),\n",
       " ('Dice_reg_0', 0.49382716049382713),\n",
       " ('Jaccard_reg_0', 0.49382716049382713),\n",
       " ('MSE_reg_0.2', 0.5),\n",
       " ('SSIM_reg_0.2', 0.5),\n",
       " ('MSE_reg_0.5', 0.5),\n",
       " ('SSIM_reg_0.5', 0.5)]"
      ]
     },
     "execution_count": 30,
     "metadata": {},
     "output_type": "execute_result"
    }
   ],
   "source": [
    "get_score(cityscapes_df)"
   ]
  },
  {
   "cell_type": "code",
   "execution_count": 31,
   "id": "ab98ca3a",
   "metadata": {
    "scrolled": true
   },
   "outputs": [
    {
     "data": {
      "text/plain": [
       "[('SSIM_reg_0', 0.46703296703296704),\n",
       " ('MSE_reg_0', 0.4945054945054945),\n",
       " ('PSNR_reg_0', 0.4945054945054945),\n",
       " ('PSNR_reg_0.2', 0.4945054945054945),\n",
       " ('PSNR_reg_0.5', 0.4945054945054945),\n",
       " ('NFOM_fp_0.1_fn_0.4_reg_0', 0.5),\n",
       " ('NFOM_fp_0.1_fn_0.2_reg_0', 0.5),\n",
       " ('NFOM_fp_0.2_fn_0.2_reg_0', 0.5),\n",
       " ('MSE_reg_0.2', 0.5),\n",
       " ('SSIM_reg_0.2', 0.5),\n",
       " ('Jaccard_reg_0.2', 0.5),\n",
       " ('NFOM_fp_0.1_fn_0.4_reg_0.2', 0.5),\n",
       " ('NFOM_fp_0.1_fn_0.2_reg_0.2', 0.5),\n",
       " ('MSE_reg_0.5', 0.5),\n",
       " ('SSIM_reg_0.5', 0.5),\n",
       " ('NFOM_fp_0.1_fn_0.4_reg_0.5', 0.5),\n",
       " ('NFOM_fp_0.1_fn_0.2_reg_0.5', 0.5),\n",
       " ('Dice_reg_0', 0.5054945054945055),\n",
       " ('Jaccard_reg_0', 0.5054945054945055),\n",
       " ('Dice_reg_0.2', 0.5054945054945055),\n",
       " ('NFOM_fp_0.2_fn_0.2_reg_0.2', 0.5054945054945055),\n",
       " ('Dice_reg_0.5', 0.5054945054945055),\n",
       " ('NFOM_fp_0.2_fn_0.2_reg_0.5', 0.5054945054945055),\n",
       " ('NFOM_fp_0.2_fn_0.1_reg_0', 0.510989010989011),\n",
       " ('NFOM_fp_0.4_fn_0.1_reg_0', 0.5164835164835165),\n",
       " ('NFOM_fp_0.2_fn_0.1_reg_0.2', 0.5164835164835165),\n",
       " ('NFOM_fp_0.4_fn_0.1_reg_0.2', 0.5164835164835165),\n",
       " ('Jaccard_reg_0.5', 0.5164835164835165),\n",
       " ('NFOM_fp_0.2_fn_0.1_reg_0.5', 0.5164835164835165),\n",
       " ('NFOM_fp_0.4_fn_0.1_reg_0.5', 0.521978021978022)]"
      ]
     },
     "execution_count": 31,
     "metadata": {},
     "output_type": "execute_result"
    }
   ],
   "source": [
    "get_score(cityscapes_rain_df)"
   ]
  },
  {
   "cell_type": "markdown",
   "id": "f487e6a7",
   "metadata": {},
   "source": [
    "## Оптимальная метрика для обьединенных данных"
   ]
  },
  {
   "cell_type": "code",
   "execution_count": 32,
   "id": "e9747f52",
   "metadata": {
    "scrolled": true
   },
   "outputs": [
    {
     "data": {
      "text/plain": [
       "[('Jaccard_reg_0.5', 0.42887931034482757),\n",
       " ('NFOM_fp_0.2_fn_0.1_reg_0.2', 0.4331896551724138),\n",
       " ('NFOM_fp_0.2_fn_0.1_reg_0.5', 0.4331896551724138),\n",
       " ('NFOM_fp_0.2_fn_0.2_reg_0', 0.4353448275862069),\n",
       " ('NFOM_fp_0.1_fn_0.2_reg_0.5', 0.4353448275862069),\n",
       " ('NFOM_fp_0.4_fn_0.1_reg_0', 0.4396551724137931),\n",
       " ('Dice_reg_0.5', 0.4396551724137931),\n",
       " ('NFOM_fp_0.2_fn_0.2_reg_0.2', 0.4418103448275862),\n",
       " ('Jaccard_reg_0.2', 0.44396551724137934),\n",
       " ('NFOM_fp_0.2_fn_0.2_reg_0.5', 0.44396551724137934),\n",
       " ('NFOM_fp_0.2_fn_0.1_reg_0', 0.44612068965517243),\n",
       " ('NFOM_fp_0.4_fn_0.1_reg_0.2', 0.44612068965517243),\n",
       " ('Dice_reg_0.2', 0.4504310344827586),\n",
       " ('NFOM_fp_0.4_fn_0.1_reg_0.5', 0.4504310344827586),\n",
       " ('NFOM_fp_0.1_fn_0.4_reg_0.5', 0.4547413793103448),\n",
       " ('SSIM_reg_0', 0.45689655172413796),\n",
       " ('NFOM_fp_0.1_fn_0.2_reg_0', 0.45689655172413796),\n",
       " ('NFOM_fp_0.1_fn_0.2_reg_0.2', 0.45689655172413796),\n",
       " ('NFOM_fp_0.1_fn_0.4_reg_0.2', 0.46336206896551724),\n",
       " ('Dice_reg_0', 0.46551724137931033),\n",
       " ('Jaccard_reg_0', 0.46551724137931033),\n",
       " ('NFOM_fp_0.1_fn_0.4_reg_0', 0.46551724137931033),\n",
       " ('MSE_reg_0', 0.49137931034482757),\n",
       " ('PSNR_reg_0', 0.49137931034482757),\n",
       " ('PSNR_reg_0.2', 0.49137931034482757),\n",
       " ('PSNR_reg_0.5', 0.49353448275862066),\n",
       " ('MSE_reg_0.2', 0.5),\n",
       " ('SSIM_reg_0.2', 0.5),\n",
       " ('MSE_reg_0.5', 0.5),\n",
       " ('SSIM_reg_0.5', 0.5)]"
      ]
     },
     "execution_count": 32,
     "metadata": {},
     "output_type": "execute_result"
    }
   ],
   "source": [
    "bdd_df.reset_index(drop=True, inplace=True)\n",
    "cityscapes_df.reset_index(drop=True, inplace=True)\n",
    "cityscapes_rain_df.reset_index(drop=True, inplace=True)\n",
    "all_data = pd.concat([bdd_df, cityscapes_df, cityscapes_rain_df])\n",
    "get_score(all_data)"
   ]
  }
 ],
 "metadata": {
  "kernelspec": {
   "display_name": "adas_venv",
   "language": "python",
   "name": "adas_venv"
  },
  "language_info": {
   "codemirror_mode": {
    "name": "ipython",
    "version": 3
   },
   "file_extension": ".py",
   "mimetype": "text/x-python",
   "name": "python",
   "nbconvert_exporter": "python",
   "pygments_lexer": "ipython3",
   "version": "3.10.6"
  }
 },
 "nbformat": 4,
 "nbformat_minor": 5
}
